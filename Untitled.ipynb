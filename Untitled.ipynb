{
 "cells": [
  {
   "cell_type": "code",
   "execution_count": 1,
   "id": "53b07b58",
   "metadata": {},
   "outputs": [],
   "source": [
    "import requests\n",
    "import pandas as pd"
   ]
  },
  {
   "cell_type": "code",
   "execution_count": 4,
   "id": "f570bc2b",
   "metadata": {},
   "outputs": [],
   "source": [
    "api_key = '5ea597c0ccd249bf931ae9b5ee31ba42' \n",
    "url = 'https://api.sportsdata.io/v3/nfl/stats/json/FantasyDefenseBySeason/2022REG' \n",
    "headers = {'Ocp-Apim-Subscription-Key': '{key}'.format(key=api_key)}\n",
    "jsonData = requests.get(url, headers=headers).json() "
   ]
  },
  {
   "cell_type": "code",
   "execution_count": 5,
   "id": "a181f59d",
   "metadata": {},
   "outputs": [],
   "source": [
    "defense2022 = pd.json_normalize(jsonData) "
   ]
  },
  {
   "cell_type": "code",
   "execution_count": null,
   "id": "335c52d3",
   "metadata": {},
   "outputs": [],
   "source": []
  },
  {
   "cell_type": "code",
   "execution_count": null,
   "id": "464e5ca2",
   "metadata": {},
   "outputs": [],
   "source": []
  }
 ],
 "metadata": {
  "kernelspec": {
   "display_name": "Python 3 (ipykernel)",
   "language": "python",
   "name": "python3"
  },
  "language_info": {
   "codemirror_mode": {
    "name": "ipython",
    "version": 3
   },
   "file_extension": ".py",
   "mimetype": "text/x-python",
   "name": "python",
   "nbconvert_exporter": "python",
   "pygments_lexer": "ipython3",
   "version": "3.9.13"
  }
 },
 "nbformat": 4,
 "nbformat_minor": 5
}
