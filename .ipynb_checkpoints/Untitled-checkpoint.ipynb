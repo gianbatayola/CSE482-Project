{
 "cells": [
  {
   "cell_type": "code",
   "execution_count": null,
   "id": "b64c1936",
   "metadata": {},
   "outputs": [],
   "source": [
    "import requests\n",
    "import pandas as pd\n",
    "from sklearn import svm\n",
    "from sklearn.model_selection import train_test_split\n",
    "import matplotlib.pyplot as plt\n",
    "from sklearn.decomposition import PCA\n",
    "from sklearn.preprocessing import StandardScaler\n",
    "from sklearn.metrics import accuracy_score\n",
    "from tpot import TPOTClassifier"
   ]
  },
  {
   "cell_type": "code",
   "execution_count": null,
   "id": "5a5ee5a7",
   "metadata": {},
   "outputs": [],
   "source": [
    "api_key = '5ea597c0ccd249bf931ae9b5ee31ba42' \n",
    "url = 'https://api.sportsdata.io/v3/nfl/stats/json/PlayerGameStatsByWeek/2022REG/17?' \n",
    "headers = {'Ocp-Apim-Subscription-Key': '{key}'.format(key=api_key)}\n",
    "players = requests.get(url, headers=headers).json() "
   ]
  },
  {
   "cell_type": "code",
   "execution_count": null,
   "id": "bda1210e",
   "metadata": {},
   "outputs": [],
   "source": [
    "url = 'https://api.sportsdata.io/v3/nfl/scores/json/ScoresByWeek/2022REG/17?' \n",
    "headers = {'Ocp-Apim-Subscription-Key': '{key}'.format(key=api_key)}\n",
    "scores = requests.get(url, headers=headers).json() "
   ]
  },
  {
   "cell_type": "code",
   "execution_count": null,
   "id": "0bf6d38e",
   "metadata": {},
   "outputs": [],
   "source": [
    "players = pd.DataFrame(players)\n",
    "scores = pd.DataFrame(scores)\n",
    "#for i in players.columns:\n",
    "   # print(i)\n",
    "#pd.DataFrame(players[\"ScoreID\"])\n",
    "#cores"
   ]
  },
  {
   "cell_type": "code",
   "execution_count": null,
   "id": "adad2e91",
   "metadata": {},
   "outputs": [],
   "source": [
    "scores = scores[[\"HomeScore\",\"AwayScore\",\"HomeTeam\",\"AwayTeam\"]]\n",
    "scores"
   ]
  },
  {
   "cell_type": "code",
   "execution_count": null,
   "id": "a8aa8410",
   "metadata": {},
   "outputs": [],
   "source": [
    "players = players[[\"Team\",\"Played\",\"PassingYards\",\"RushingYards\",\"ReceivingYards\",\"PuntReturnYards\",\"KickReturnYards\"]]\n",
    "players = players[players[\"Played\"]==1] #only include players who played\n",
    "players = players.groupby(\"Team\").sum()"
   ]
  },
  {
   "cell_type": "code",
   "execution_count": null,
   "id": "14120531",
   "metadata": {
    "scrolled": true
   },
   "outputs": [],
   "source": [
    "win = []\n",
    "for i in range(len(players)):\n",
    "    team = str(players.index[i])\n",
    "    if sum(scores[\"HomeTeam\"].str.contains(team))==1:\n",
    "        curr = scores[scores[\"HomeTeam\"]==team]\n",
    "        if curr[\"HomeScore\"].iloc[0] > curr[\"AwayScore\"].iloc[0]:\n",
    "            win.append(1)\n",
    "        else:\n",
    "            win.append(0)\n",
    "    elif sum(scores[\"AwayTeam\"].str.contains(team))==1:\n",
    "        curr = scores[scores[\"AwayTeam\"]==team]\n",
    "        if curr[\"HomeScore\"].iloc[0] < curr[\"AwayScore\"].iloc[0]:\n",
    "            win.append(1)\n",
    "        else:\n",
    "            win.append(0)"
   ]
  },
  {
   "cell_type": "code",
   "execution_count": null,
   "id": "3b457cae",
   "metadata": {},
   "outputs": [],
   "source": [
    "players[\"Win\"] = win\n",
    "players"
   ]
  },
  {
   "cell_type": "code",
   "execution_count": null,
   "id": "babd0c40",
   "metadata": {},
   "outputs": [],
   "source": [
    "y=players[\"Win\"]\n",
    "X=players.drop(\"Win\",axis=1)"
   ]
  },
  {
   "cell_type": "code",
   "execution_count": null,
   "id": "3ca20327",
   "metadata": {},
   "outputs": [],
   "source": [
    "X_train, X_test, y_train, y_test = train_test_split(X,y)"
   ]
  },
  {
   "cell_type": "code",
   "execution_count": null,
   "id": "39a9f3e1",
   "metadata": {},
   "outputs": [],
   "source": [
    "pipeline_optimizer = TPOTClassifier(generations=5)"
   ]
  },
  {
   "cell_type": "code",
   "execution_count": null,
   "id": "78df288b",
   "metadata": {},
   "outputs": [],
   "source": [
    "pipeline_optimizer.fit(X_train, y_train)"
   ]
  },
  {
   "cell_type": "code",
   "execution_count": null,
   "id": "1dee8229",
   "metadata": {},
   "outputs": [],
   "source": [
    "print(pipeline_optimizer.score(X_test, y_test))"
   ]
  },
  {
   "cell_type": "code",
   "execution_count": null,
   "id": "5fcbad91",
   "metadata": {},
   "outputs": [],
   "source": []
  }
 ],
 "metadata": {
  "kernelspec": {
   "display_name": "Python 3 (ipykernel)",
   "language": "python",
   "name": "python3"
  },
  "language_info": {
   "codemirror_mode": {
    "name": "ipython",
    "version": 3
   },
   "file_extension": ".py",
   "mimetype": "text/x-python",
   "name": "python",
   "nbconvert_exporter": "python",
   "pygments_lexer": "ipython3",
   "version": "3.9.16"
  }
 },
 "nbformat": 4,
 "nbformat_minor": 5
}
