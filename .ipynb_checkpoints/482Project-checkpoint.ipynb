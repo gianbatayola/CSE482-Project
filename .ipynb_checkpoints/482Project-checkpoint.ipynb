{
 "cells": [
  {
   "cell_type": "code",
   "execution_count": null,
   "id": "b64c1936",
   "metadata": {},
   "outputs": [],
   "source": [
    "import requests\n",
    "import pandas as pd\n",
    "from sklearn import svm\n",
    "from sklearn.model_selection import train_test_split\n",
    "import matplotlib.pyplot as plt\n",
    "from sklearn.metrics import accuracy_score\n",
    "from tpot import TPOTClassifier\n",
    "from sklearn.feature_selection import SelectKBest, chi2,SelectFwe"
   ]
  },
  {
   "cell_type": "code",
   "execution_count": null,
   "id": "babd0c40",
   "metadata": {},
   "outputs": [],
   "source": [
    "api_key = '5ea597c0ccd249bf931ae9b5ee31ba42' \n",
    "\n",
    "def GetWinCurr(players_curr, scores_curr):\n",
    "    win_curr = []\n",
    "    \n",
    "    for i in range(len(players_curr)):\n",
    "        team = str(players_curr.index[i])\n",
    "        if sum(scores_curr[\"HomeTeam\"].str.contains(team))==1:\n",
    "            curr = scores_curr[scores_curr[\"HomeTeam\"]==team]\n",
    "            if curr[\"HomeScore\"].iloc[0] > curr[\"AwayScore\"].iloc[0]:\n",
    "                win_curr.append(1)\n",
    "            else:\n",
    "                win_curr.append(0)\n",
    "        elif sum(scores_curr[\"AwayTeam\"].str.contains(team))==1:\n",
    "            curr = scores_curr[scores_curr[\"AwayTeam\"]==team]\n",
    "            if curr[\"HomeScore\"].iloc[0] < curr[\"AwayScore\"].iloc[0]:\n",
    "                win_curr.append(1)\n",
    "            else:\n",
    "                win_curr.append(0)\n",
    "    return win_curr\n",
    "\n",
    "\n",
    "def GetPlayersCurr(curr_year, week, season):\n",
    "    url = 'https://api.sportsdata.io/v3/nfl/stats/json/PlayerGameStatsByWeek/'+str(curr_year)+season+str(week)+'?'\n",
    "    headers = {'Ocp-Apim-Subscription-Key': '{key}'.format(key=api_key)}\n",
    "    players_curr = requests.get(url, headers=headers).json() \n",
    "\n",
    "    url = 'https://api.sportsdata.io/v3/nfl/scores/json/ScoresByWeek/'+str(curr_year)+season+str(week)+'?' \n",
    "    headers = {'Ocp-Apim-Subscription-Key': '{key}'.format(key=api_key)}\n",
    "    scores_curr = requests.get(url, headers=headers).json() \n",
    "\n",
    "    players_curr = pd.DataFrame(players_curr)\n",
    "    scores_curr = pd.DataFrame(scores_curr)\n",
    "\n",
    "    scores_curr = scores_curr[[\"HomeScore\",\"AwayScore\",\"HomeTeam\",\"AwayTeam\"]]\n",
    "    players_curr = players_curr[players_curr[\"Played\"]==1] #only include players who played\n",
    "    players_curr = players_curr.groupby(\"Team\").sum(numeric_only=True)\n",
    "    players_curr[\"Win\"] = GetWinCurr(players_curr, scores_curr)\n",
    "    \n",
    "    return players_curr\n",
    "\n",
    "\n",
    "def GetFullSeason(start_year,curr_year,players):\n",
    "    season = \"REG/\"\n",
    "    print(curr_year, \"Regular Season:\")\n",
    "    for week in range(1,17):\n",
    "        print(\"Week\", week)\n",
    "        players_curr = GetPlayersCurr(curr_year, week, season)\n",
    "        players = pd.concat([players,players_curr])\n",
    "        print(\"New size:\", len(players))\n",
    "    if curr_year != 2022:\n",
    "        season = \"POST/\"\n",
    "        print(curr_year, \"PostSeason\")\n",
    "        for week in range(1,5):\n",
    "            print(\"Week\", week)\n",
    "            players_curr = GetPlayersCurr(curr_year, week, season)\n",
    "            players = pd.concat([players,players_curr])\n",
    "            print(\"New size:\", len(players))\n",
    "    return players\n",
    "    \n",
    "\n",
    "def GetTrainData(start_year=2021):\n",
    "    print(\"Getting Training Data...\")\n",
    "    players=None\n",
    "    for year in range(start_year,2023):\n",
    "        players = GetFullSeason(start_year,year,players)\n",
    "    print(\"Done\")\n",
    "    return(players)\n",
    "\n",
    "\n",
    "\n",
    "\n",
    "def GetTestData():\n",
    "    print(\"Getting Testing Data...\")\n",
    "    curr_year = 2022\n",
    "    end = 4\n",
    "    season = \"POST/\"\n",
    "    print(\"2022 PostSeason:\")\n",
    "    for week in range(1,end+1):\n",
    "        if week == 1:\n",
    "            players = None\n",
    "        print(\"Week\", week)\n",
    "        players_curr = GetPlayersCurr(curr_year, week, season)\n",
    "        players = pd.concat([players,players_curr])\n",
    "\n",
    "        print(\"New size:\", len(players))\n",
    "        if week==4:\n",
    "            print(\"Done\")\n",
    "\n",
    "    return(players)\n",
    "\n",
    "def FormatData(data):\n",
    "    X = data.drop([\"Played\",\"Win\",\"RushingTouchdowns\",\"ExtraPointsMade\",\"OffensiveTouchdowns\",\"Touchdowns\",\"FumbleReturnTouchdowns\",\"PassingTouchdowns\",\"ReceivingTouchdowns\",\"FieldGoalsMade30to39\",\"FieldGoalsMade50Plus\",\"ExtraPointsAttempted\"],axis=1)\n",
    "    y = data[\"Win\"]\n",
    "    X.dropna(axis=1,inplace=True)\n",
    "    X = X.loc[:,X.apply(pd.Series.nunique) != 1]\n",
    "    return X,y\n",
    "\n",
    "def GetFeatures(X_train, y_train):\n",
    "    kbest = SelectKBest(k=10)\n",
    "    kbest.fit_transform(X_train, y_train)\n",
    "    features = kbest.get_feature_names_out()\n",
    "    return features"
   ]
  },
  {
   "cell_type": "code",
   "execution_count": null,
   "id": "7bdf028b",
   "metadata": {},
   "outputs": [],
   "source": [
    "train = GetTrainData(2021)"
   ]
  },
  {
   "cell_type": "code",
   "execution_count": null,
   "id": "574023cf",
   "metadata": {},
   "outputs": [],
   "source": [
    "X_train, y_train = FormatData(train)\n",
    "features = GetFeatures(X_train, y_train)\n",
    "print(features)\n",
    "X_train = X_train[features]"
   ]
  },
  {
   "cell_type": "code",
   "execution_count": null,
   "id": "f7f0d250",
   "metadata": {
    "scrolled": true
   },
   "outputs": [],
   "source": [
    "test = GetTestData()\n",
    "X_test, y_test = FormatData(test)\n",
    "X_test = X_test[features]"
   ]
  },
  {
   "cell_type": "code",
   "execution_count": null,
   "id": "11305b1f",
   "metadata": {},
   "outputs": [],
   "source": [
    "pipeline_optimizer = TPOTClassifier(generations=5)\n",
    "pipeline_optimizer.fit(X_train, y_train)\n",
    "print(\"Baseline:\",pipeline_optimizer.score(X_test, y_test))"
   ]
  },
  {
   "cell_type": "code",
   "execution_count": null,
   "id": "598f4b1c",
   "metadata": {},
   "outputs": [],
   "source": [
    "clf = svm.SVC(kernel='linear')\n",
    "clf.fit(X_train, y_train)\n",
    "y_pred = clf.predict(X_test)\n",
    "print(\"Accuracy:\",accuracy_score(y_pred, y_test))"
   ]
  }
 ],
 "metadata": {
  "kernelspec": {
   "display_name": "Python 3 (ipykernel)",
   "language": "python",
   "name": "python3"
  },
  "language_info": {
   "codemirror_mode": {
    "name": "ipython",
    "version": 3
   },
   "file_extension": ".py",
   "mimetype": "text/x-python",
   "name": "python",
   "nbconvert_exporter": "python",
   "pygments_lexer": "ipython3",
   "version": "3.9.16"
  }
 },
 "nbformat": 4,
 "nbformat_minor": 5
}
