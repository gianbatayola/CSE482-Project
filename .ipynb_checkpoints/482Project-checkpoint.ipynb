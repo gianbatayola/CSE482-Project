{
 "cells": [
  {
   "cell_type": "code",
   "execution_count": null,
   "id": "b64c1936",
   "metadata": {},
   "outputs": [],
   "source": [
    "import requests\n",
    "import pandas as pd\n",
    "from sklearn import svm\n",
    "from sklearn.model_selection import train_test_split\n",
    "import matplotlib.pyplot as plt\n",
    "from sklearn.metrics import accuracy_score\n",
    "from tpot import TPOTClassifier\n",
    "from sklearn.feature_selection import SelectKBest, chi2,SelectFwe"
   ]
  },
  {
   "cell_type": "code",
   "execution_count": null,
   "id": "babd0c40",
   "metadata": {},
   "outputs": [],
   "source": [
    "api_key = '5ea597c0ccd249bf931ae9b5ee31ba42' \n",
    "\n",
    "def GetModelData(n=16,year=2022):\n",
    "\n",
    "    prev_year = year - 1\n",
    "    curr_year = prev_year\n",
    "    while curr_year <= year:\n",
    "        if curr_year == prev_year:\n",
    "            end = 4\n",
    "            season = \"POST/\"\n",
    "            print(curr_year, \"Postseason:\")\n",
    "            players = None\n",
    "        else:\n",
    "            end = n\n",
    "            season = \"REG/\"\n",
    "            print(curr_year, \"Regular Season:\")\n",
    "            \n",
    "        for week in range(1,end+1):\n",
    "            print(\"Week\", week)\n",
    "            url = 'https://api.sportsdata.io/v3/nfl/stats/json/PlayerGameStatsByWeek/'+str(curr_year)+season+str(week)+'?'\n",
    "            headers = {'Ocp-Apim-Subscription-Key': '{key}'.format(key=api_key)}\n",
    "            players_curr = requests.get(url, headers=headers).json() \n",
    "\n",
    "            url = 'https://api.sportsdata.io/v3/nfl/scores/json/ScoresByWeek/'+str(curr_year)+season+str(week)+'?' \n",
    "            headers = {'Ocp-Apim-Subscription-Key': '{key}'.format(key=api_key)}\n",
    "            scores_curr = requests.get(url, headers=headers).json() \n",
    "\n",
    "            players_curr = pd.DataFrame(players_curr)\n",
    "            scores_curr = pd.DataFrame(scores_curr)\n",
    "\n",
    "            scores_curr = scores_curr[[\"HomeScore\",\"AwayScore\",\"HomeTeam\",\"AwayTeam\"]]\n",
    "            #players_curr = players_curr[[\"Team\",\"Played\",\"PassingYards\",\"RushingYards\",\"ReceivingYards\",\"PuntReturnYards\",\"KickReturnYards\"]]\n",
    "            players_curr = players_curr[players_curr[\"Played\"]==1] #only include players who played\n",
    "            players_curr = players_curr.groupby(\"Team\").sum(numeric_only=True)\n",
    "\n",
    "            win_curr = []\n",
    "            for i in range(len(players_curr)):\n",
    "                team = str(players_curr.index[i])\n",
    "                if sum(scores_curr[\"HomeTeam\"].str.contains(team))==1:\n",
    "                    curr = scores_curr[scores_curr[\"HomeTeam\"]==team]\n",
    "                    if curr[\"HomeScore\"].iloc[0] > curr[\"AwayScore\"].iloc[0]:\n",
    "                        win_curr.append(1)\n",
    "                    else:\n",
    "                        win_curr.append(0)\n",
    "                elif sum(scores_curr[\"AwayTeam\"].str.contains(team))==1:\n",
    "                    curr = scores_curr[scores_curr[\"AwayTeam\"]==team]\n",
    "                    if curr[\"HomeScore\"].iloc[0] < curr[\"AwayScore\"].iloc[0]:\n",
    "                        win_curr.append(1)\n",
    "                    else:\n",
    "                        win_curr.append(0)\n",
    "\n",
    "            players_curr[\"Win\"] = win_curr\n",
    "            players = pd.concat([players,players_curr])\n",
    "\n",
    "            print(\"New size:\", len(players))\n",
    "            if curr_year == year and week==n:\n",
    "                print(\"Done\")\n",
    "        curr_year += 1\n",
    "    return(players)\n",
    "\n",
    "\n",
    "\n",
    "\n",
    "def GetValData():\n",
    "    curr_year = 2022\n",
    "    end = 4\n",
    "    for week in range(1,end+1):\n",
    "        if week == 1:\n",
    "            players = None\n",
    "        print(\"Week\", week)\n",
    "        url = 'https://api.sportsdata.io/v3/nfl/stats/json/PlayerGameStatsByWeek/2022POST/'+str(week)+'?'\n",
    "        headers = {'Ocp-Apim-Subscription-Key': '{key}'.format(key=api_key)}\n",
    "        players_curr = requests.get(url, headers=headers).json() \n",
    "\n",
    "        url = 'https://api.sportsdata.io/v3/nfl/scores/json/ScoresByWeek/2022POST/'+str(week)+'?' \n",
    "        headers = {'Ocp-Apim-Subscription-Key': '{key}'.format(key=api_key)}\n",
    "        scores_curr = requests.get(url, headers=headers).json() \n",
    "\n",
    "        players_curr = pd.DataFrame(players_curr)\n",
    "        scores_curr = pd.DataFrame(scores_curr)\n",
    "\n",
    "        scores_curr = scores_curr[[\"HomeScore\",\"AwayScore\",\"HomeTeam\",\"AwayTeam\"]]\n",
    "        #players_curr = players_curr[[\"Team\",\"Played\",\"PassingYards\",\"RushingYards\",\"ReceivingYards\",\"PuntReturnYards\",\"KickReturnYards\"]]\n",
    "        players_curr = players_curr[players_curr[\"Played\"]==1] #only include players who played\n",
    "        players_curr = players_curr.groupby(\"Team\").sum(numeric_only=True)\n",
    "\n",
    "        win_curr = []\n",
    "        for i in range(len(players_curr)):\n",
    "            team = str(players_curr.index[i])\n",
    "            if sum(scores_curr[\"HomeTeam\"].str.contains(team))==1:\n",
    "                curr = scores_curr[scores_curr[\"HomeTeam\"]==team]\n",
    "                if curr[\"HomeScore\"].iloc[0] > curr[\"AwayScore\"].iloc[0]:\n",
    "                    win_curr.append(1)\n",
    "                else:\n",
    "                    win_curr.append(0)\n",
    "            elif sum(scores_curr[\"AwayTeam\"].str.contains(team))==1:\n",
    "                curr = scores_curr[scores_curr[\"AwayTeam\"]==team]\n",
    "                if curr[\"HomeScore\"].iloc[0] < curr[\"AwayScore\"].iloc[0]:\n",
    "                    win_curr.append(1)\n",
    "                else:\n",
    "                    win_curr.append(0)\n",
    "\n",
    "        players_curr[\"Win\"] = win_curr\n",
    "        players = pd.concat([players,players_curr])\n",
    "\n",
    "        print(\"New size:\", len(players))\n",
    "        if week==4:\n",
    "            print(\"Done\")\n",
    "\n",
    "    return(players)"
   ]
  },
  {
   "cell_type": "code",
   "execution_count": null,
   "id": "7bdf028b",
   "metadata": {},
   "outputs": [],
   "source": [
    "players = GetModelData()"
   ]
  },
  {
   "cell_type": "code",
   "execution_count": null,
   "id": "574023cf",
   "metadata": {},
   "outputs": [],
   "source": [
    "X = players.drop([\"Played\",\"Win\",\"RushingTouchdowns\",\"ExtraPointsMade\",\"OffensiveTouchdowns\",\"Touchdowns\",\"FumbleReturnTouchdowns\",\"PassingTouchdowns\",\"ReceivingTouchdowns\",\"FieldGoalsMade30to39\",\"FieldGoalsMade50Plus\",\"ExtraPointsAttempted\"],axis=1)\n",
    "y = players[\"Win\"]\n",
    "X.dropna(axis=1,inplace=True)\n",
    "X = X.loc[:,X.apply(pd.Series.nunique) != 1]"
   ]
  },
  {
   "cell_type": "code",
   "execution_count": null,
   "id": "f7f0d250",
   "metadata": {
    "scrolled": true
   },
   "outputs": [],
   "source": [
    "kbest = SelectKBest(k=10)\n",
    "kbest.fit_transform(X, y)\n",
    "features = kbest.get_feature_names_out()\n",
    "X = X[features]\n",
    "print(\"Features:\",features)\n",
    "X_train, X_test, y_train, y_test = train_test_split(X, y, test_size=0.1, random_state=42)"
   ]
  },
  {
   "cell_type": "code",
   "execution_count": null,
   "id": "11305b1f",
   "metadata": {},
   "outputs": [],
   "source": [
    "pipeline_optimizer = TPOTClassifier(generations=5)\n",
    "pipeline_optimizer.fit(X_train, y_train)\n",
    "print(\"Baseline:\",pipeline_optimizer.score(X_test, y_test))"
   ]
  },
  {
   "cell_type": "code",
   "execution_count": null,
   "id": "598f4b1c",
   "metadata": {},
   "outputs": [],
   "source": [
    "clf = svm.SVC(kernel='linear')\n",
    "clf.fit(X_train, y_train)\n",
    "y_pred = clf.predict(X_test)\n",
    "print(\"Accuracy:\",accuracy_score(y_pred, y_test))"
   ]
  },
  {
   "cell_type": "code",
   "execution_count": null,
   "id": "3205d1ca",
   "metadata": {},
   "outputs": [],
   "source": [
    "players_val = GetValData()"
   ]
  },
  {
   "cell_type": "code",
   "execution_count": null,
   "id": "b81fdbbf",
   "metadata": {},
   "outputs": [],
   "source": [
    "X_val = players_val.drop([\"Played\",\"Win\",\"RushingTouchdowns\",\"ExtraPointsMade\",\"OffensiveTouchdowns\",\"Touchdowns\",\"FumbleReturnTouchdowns\"],axis=1)\n",
    "y_val = players_val[\"Win\"]\n",
    "X_val.dropna(axis=1,inplace=True)\n",
    "X_val = X_val.loc[:,X_val.apply(pd.Series.nunique) != 1]\n",
    "X_val = X_val[features]\n",
    "\n",
    "y_val_pred = clf.predict(X_val)\n",
    "print(\"Validation accuracy:\",accuracy_score(y_val_pred, y_val))"
   ]
  }
 ],
 "metadata": {
  "kernelspec": {
   "display_name": "Python 3 (ipykernel)",
   "language": "python",
   "name": "python3"
  },
  "language_info": {
   "codemirror_mode": {
    "name": "ipython",
    "version": 3
   },
   "file_extension": ".py",
   "mimetype": "text/x-python",
   "name": "python",
   "nbconvert_exporter": "python",
   "pygments_lexer": "ipython3",
   "version": "3.9.16"
  }
 },
 "nbformat": 4,
 "nbformat_minor": 5
}
