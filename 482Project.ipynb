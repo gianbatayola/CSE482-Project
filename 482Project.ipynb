{
 "cells": [
  {
   "cell_type": "code",
   "execution_count": null,
   "id": "b64c1936",
   "metadata": {},
   "outputs": [],
   "source": [
    "import requests\n",
    "import pandas as pd\n",
    "from sklearn import svm\n",
    "from sklearn.model_selection import train_test_split\n",
    "import matplotlib.pyplot as plt\n",
    "from sklearn.decomposition import PCA\n",
    "from sklearn.preprocessing import StandardScaler\n",
    "from sklearn.metrics import accuracy_score\n",
    "from tpot import TPOTClassifier\n",
    "from sklearn.feature_selection import SelectKBest, chi2,SelectFwe"
   ]
  },
  {
   "cell_type": "code",
   "execution_count": null,
   "id": "5a5ee5a7",
   "metadata": {},
   "outputs": [],
   "source": [
    "api_key = '5ea597c0ccd249bf931ae9b5ee31ba42' \n",
    "\n",
    "url = 'https://api.sportsdata.io/v3/nfl/stats/json/PlayerGameStatsByWeek/2022REG/1?' \n",
    "headers = {'Ocp-Apim-Subscription-Key': '{key}'.format(key=api_key)}\n",
    "players = requests.get(url, headers=headers).json() \n",
    "    \n",
    "url = 'https://api.sportsdata.io/v3/nfl/scores/json/ScoresByWeek/2022REG/1?' \n",
    "headers = {'Ocp-Apim-Subscription-Key': '{key}'.format(key=api_key)}\n",
    "scores = requests.get(url, headers=headers).json() \n",
    "    \n",
    "players = pd.DataFrame(players)\n",
    "scores = pd.DataFrame(scores)\n",
    "\n",
    "#for i in players.columns:\n",
    "    #print(i)\n",
    "    \n",
    "scores = scores[[\"HomeScore\",\"AwayScore\",\"HomeTeam\",\"AwayTeam\"]]\n",
    "#players = players[[\"Team\",\"Played\",\"PassingYards\",\"RushingYards\",\"ReceivingYards\",\"PuntReturnYards\",\"KickReturnYards\"]]\n",
    "players = players[players[\"Played\"]==1] #only include players who played\n",
    "players = players.groupby(\"Team\").sum()\n",
    "    \n",
    "win = []\n",
    "for i in range(len(players)):\n",
    "    team = str(players.index[i])\n",
    "    if sum(scores[\"HomeTeam\"].str.contains(team))==1:\n",
    "        curr = scores[scores[\"HomeTeam\"]==team]\n",
    "        if curr[\"HomeScore\"].iloc[0] > curr[\"AwayScore\"].iloc[0]:\n",
    "            win.append(1)\n",
    "        else:\n",
    "            win.append(0)\n",
    "    elif sum(scores[\"AwayTeam\"].str.contains(team))==1:\n",
    "        curr = scores[scores[\"AwayTeam\"]==team]\n",
    "        if curr[\"HomeScore\"].iloc[0] < curr[\"AwayScore\"].iloc[0]:\n",
    "            win.append(1)\n",
    "        else:\n",
    "            win.append(0)\n",
    "                \n",
    "players[\"Win\"] = win\n",
    "print(\"Done\")"
   ]
  },
  {
   "cell_type": "code",
   "execution_count": null,
   "id": "babd0c40",
   "metadata": {},
   "outputs": [],
   "source": [
    "print(\"Week 1\")\n",
    "print(\"Size:\", len(players))\n",
    "n = 16\n",
    "for week in range(2,n+1):\n",
    "    print(\"Week\", week)\n",
    "\n",
    "    url = 'https://api.sportsdata.io/v3/nfl/stats/json/PlayerGameStatsByWeek/2022REG/'+str(week)+'?'\n",
    "    headers = {'Ocp-Apim-Subscription-Key': '{key}'.format(key=api_key)}\n",
    "    players_curr = requests.get(url, headers=headers).json() \n",
    "    \n",
    "    url = 'https://api.sportsdata.io/v3/nfl/scores/json/ScoresByWeek/2022REG/'+str(week)+'?' \n",
    "    headers = {'Ocp-Apim-Subscription-Key': '{key}'.format(key=api_key)}\n",
    "    scores_curr = requests.get(url, headers=headers).json() \n",
    "\n",
    "    players_curr = pd.DataFrame(players_curr)\n",
    "    scores_curr = pd.DataFrame(scores_curr)\n",
    "\n",
    "    scores_curr = scores_curr[[\"HomeScore\",\"AwayScore\",\"HomeTeam\",\"AwayTeam\"]]\n",
    "    #players_curr = players_curr[[\"Team\",\"Played\",\"PassingYards\",\"RushingYards\",\"ReceivingYards\",\"PuntReturnYards\",\"KickReturnYards\"]]\n",
    "    players_curr = players_curr[players_curr[\"Played\"]==1] #only include players who played\n",
    "    players_curr = players_curr.groupby(\"Team\").sum()\n",
    "\n",
    "    win_curr = []\n",
    "    for i in range(len(players_curr)):\n",
    "        team = str(players_curr.index[i])\n",
    "        if sum(scores_curr[\"HomeTeam\"].str.contains(team))==1:\n",
    "            curr = scores_curr[scores_curr[\"HomeTeam\"]==team]\n",
    "            if curr[\"HomeScore\"].iloc[0] > curr[\"AwayScore\"].iloc[0]:\n",
    "                win_curr.append(1)\n",
    "            else:\n",
    "                win_curr.append(0)\n",
    "        elif sum(scores_curr[\"AwayTeam\"].str.contains(team))==1:\n",
    "            curr = scores_curr[scores_curr[\"AwayTeam\"]==team]\n",
    "            if curr[\"HomeScore\"].iloc[0] < curr[\"AwayScore\"].iloc[0]:\n",
    "                win_curr.append(1)\n",
    "            else:\n",
    "                win_curr.append(0)\n",
    "\n",
    "    players_curr[\"Win\"] = win_curr\n",
    "    players = pd.concat([players,players_curr])\n",
    "    \n",
    "    print(\"New size:\", len(players))\n",
    "    if week==n:\n",
    "        print(\"Done\")"
   ]
  },
  {
   "cell_type": "code",
   "execution_count": null,
   "id": "574023cf",
   "metadata": {},
   "outputs": [],
   "source": [
    "X = players.drop([\"Played\",\"Win\",\"RushingTouchdowns\",\"ExtraPointsMade\",\"OffensiveTouchdowns\",\"Touchdowns\",\"FumbleReturnTouchdowns\"],axis=1)\n",
    "y = players[\"Win\"]\n",
    "X.dropna(axis=1,inplace=True)\n",
    "X = X.loc[:,X.apply(pd.Series.nunique) != 1]\n"
   ]
  },
  {
   "cell_type": "code",
   "execution_count": null,
   "id": "e6640b59",
   "metadata": {},
   "outputs": [],
   "source": [
    "X"
   ]
  },
  {
   "cell_type": "code",
   "execution_count": null,
   "id": "f7f0d250",
   "metadata": {},
   "outputs": [],
   "source": [
    "kbest = SelectKBest()\n",
    "kbest.fit_transform(X, y)\n",
    "features = kbest.get_feature_names_out()\n",
    "X = X[features]\n",
    "features"
   ]
  },
  {
   "cell_type": "code",
   "execution_count": null,
   "id": "58eff15f",
   "metadata": {},
   "outputs": [],
   "source": [
    " X_train, X_test, y_train, y_test = train_test_split(X, y, test_size=0.1, random_state=42)"
   ]
  },
  {
   "cell_type": "code",
   "execution_count": null,
   "id": "c2d3b38c",
   "metadata": {},
   "outputs": [],
   "source": [
    "def transform(X):\n",
    "    scaler = StandardScaler()\n",
    "    scaler.fit(X)\n",
    "    X_transform = scaler.transform(X)\n",
    "    pca=PCA(n_components=2)\n",
    "    pca.fit(X_transform)\n",
    "    X_pca=pca.transform(X_transform)\n",
    "    return X_pca"
   ]
  },
  {
   "cell_type": "code",
   "execution_count": null,
   "id": "8d47af24",
   "metadata": {},
   "outputs": [],
   "source": [
    "#X_train_pca=transform(X_train)\n",
    "#X_test_pca = transform(X_test)"
   ]
  },
  {
   "cell_type": "code",
   "execution_count": null,
   "id": "70ff5d37",
   "metadata": {},
   "outputs": [],
   "source": [
    "#plt.scatter(X_train_pca[:,0],X_train_pca[:,1],c=y_train)"
   ]
  },
  {
   "cell_type": "code",
   "execution_count": null,
   "id": "b16832a6",
   "metadata": {},
   "outputs": [],
   "source": [
    "clf = svm.SVC(kernel='linear')\n",
    "clf.fit(X_train, y_train)\n",
    "y_pred = clf.predict(X_test)\n",
    "print(accuracy_score(y_pred, y_test))"
   ]
  },
  {
   "cell_type": "code",
   "execution_count": null,
   "id": "7397fbe7",
   "metadata": {},
   "outputs": [],
   "source": [
    "pipeline_optimizer = TPOTClassifier(generations=10)"
   ]
  },
  {
   "cell_type": "code",
   "execution_count": null,
   "id": "78df288b",
   "metadata": {},
   "outputs": [],
   "source": [
    "pipeline_optimizer.fit(X_train, y_train)"
   ]
  },
  {
   "cell_type": "code",
   "execution_count": null,
   "id": "1dee8229",
   "metadata": {},
   "outputs": [],
   "source": [
    "print(pipeline_optimizer.score(X_test, y_test))"
   ]
  }
 ],
 "metadata": {
  "kernelspec": {
   "display_name": "Python 3",
   "language": "python",
   "name": "python3"
  },
  "language_info": {
   "codemirror_mode": {
    "name": "ipython",
    "version": 3
   },
   "file_extension": ".py",
   "mimetype": "text/x-python",
   "name": "python",
   "nbconvert_exporter": "python",
   "pygments_lexer": "ipython3",
   "version": "3.8.8"
  }
 },
 "nbformat": 4,
 "nbformat_minor": 5
}
