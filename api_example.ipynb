{
 "cells": [
  {
   "cell_type": "code",
   "execution_count": null,
   "id": "d8d19203",
   "metadata": {},
   "outputs": [],
   "source": [
    "import requests\n",
    "import pandas as pd"
   ]
  },
  {
   "cell_type": "code",
   "execution_count": null,
   "id": "a4c17094",
   "metadata": {},
   "outputs": [],
   "source": [
    "api_key = '5ea597c0ccd249bf931ae9b5ee31ba42' # our key through my account\n",
    "#using fantasy defense by season dataset rn\n",
    "url = 'https://api.sportsdata.io/v3/nfl/stats/json/FantasyDefenseBySeason/2022REG' # different urls call different datasets\n",
    "headers = {'Ocp-Apim-Subscription-Key': '{key}'.format(key=api_key)} # dk what this does but its the same across the board\n",
    "jsonData = requests.get(url, headers=headers).json() #get json"
   ]
  },
  {
   "cell_type": "code",
   "execution_count": null,
   "id": "2db9f4b4",
   "metadata": {},
   "outputs": [],
   "source": [
    "pd.json_normalize(jsonData) #transorm to pandas cause i still suck at json"
   ]
  },
  {
   "cell_type": "code",
   "execution_count": null,
   "id": "03faa3c0",
   "metadata": {},
   "outputs": [],
   "source": []
  }
 ],
 "metadata": {
  "kernelspec": {
   "display_name": "Python 3 (ipykernel)",
   "language": "python",
   "name": "python3"
  },
  "language_info": {
   "codemirror_mode": {
    "name": "ipython",
    "version": 3
   },
   "file_extension": ".py",
   "mimetype": "text/x-python",
   "name": "python",
   "nbconvert_exporter": "python",
   "pygments_lexer": "ipython3",
   "version": "3.9.13"
  }
 },
 "nbformat": 4,
 "nbformat_minor": 5
}
