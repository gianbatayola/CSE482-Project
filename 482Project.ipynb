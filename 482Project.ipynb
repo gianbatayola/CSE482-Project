{
 "cells": [
  {
   "cell_type": "code",
   "execution_count": 1,
   "id": "b64c1936",
   "metadata": {},
   "outputs": [],
   "source": [
    "import requests\n",
    "import pandas as pd\n",
    "from sklearn import svm\n",
    "from sklearn.model_selection import train_test_split\n",
    "import matplotlib.pyplot as plt\n",
    "from sklearn.metrics import accuracy_score\n",
    "from tpot import TPOTClassifier\n",
    "from sklearn.feature_selection import SelectKBest, chi2,SelectFwe\n",
    "import seaborn as sns"
   ]
  },
  {
   "cell_type": "code",
   "execution_count": 2,
   "id": "babd0c40",
   "metadata": {},
   "outputs": [],
   "source": [
    "api_key = '663b6d7ff1d34330af632c38cb80a1f8' \n",
    "\n",
    "def GetWinCurr(players_curr, scores_curr):\n",
    "    win_curr = []\n",
    "    \n",
    "    for i in range(len(players_curr)):\n",
    "        team = str(players_curr.index[i])\n",
    "        if sum(scores_curr[\"HomeTeam\"].str.contains(team))==1:\n",
    "            curr = scores_curr[scores_curr[\"HomeTeam\"]==team]\n",
    "            if curr[\"HomeScore\"].iloc[0] > curr[\"AwayScore\"].iloc[0]:\n",
    "                win_curr.append(1)\n",
    "            else:\n",
    "                win_curr.append(0)\n",
    "        elif sum(scores_curr[\"AwayTeam\"].str.contains(team))==1:\n",
    "            curr = scores_curr[scores_curr[\"AwayTeam\"]==team]\n",
    "            if curr[\"HomeScore\"].iloc[0] < curr[\"AwayScore\"].iloc[0]:\n",
    "                win_curr.append(1)\n",
    "            else:\n",
    "                win_curr.append(0)\n",
    "    return win_curr\n",
    "\n",
    "\n",
    "def GetPlayersCurr(curr_year, week, season):\n",
    "    url = 'https://api.sportsdata.io/v3/nfl/stats/json/PlayerGameStatsByWeek/'+str(curr_year)+season+str(week)+'?'\n",
    "    headers = {'Ocp-Apim-Subscription-Key': '{key}'.format(key=api_key)}\n",
    "    players_curr = requests.get(url, headers=headers).json() \n",
    "\n",
    "    url = 'https://api.sportsdata.io/v3/nfl/scores/json/ScoresByWeek/'+str(curr_year)+season+str(week)+'?' \n",
    "    headers = {'Ocp-Apim-Subscription-Key': '{key}'.format(key=api_key)}\n",
    "    scores_curr = requests.get(url, headers=headers).json() \n",
    "    #print(scores_curr)\n",
    "    players_curr = pd.DataFrame(players_curr)\n",
    "    scores_curr = pd.DataFrame(scores_curr)\n",
    "\n",
    "    scores_curr = scores_curr[[\"HomeScore\",\"AwayScore\",\"HomeTeam\",\"AwayTeam\"]]\n",
    "    players_curr = players_curr[players_curr[\"Played\"]==1] #only include players who played\n",
    "    players_curr = players_curr.groupby(\"Team\").sum(numeric_only=True)\n",
    "    players_curr[\"Win\"] = GetWinCurr(players_curr, scores_curr)\n",
    "    \n",
    "    return players_curr\n",
    "\n",
    "\n",
    "def GetFullSeason(start_year,curr_year,players):\n",
    "    season = \"REG/\"\n",
    "    print(curr_year, \"Regular Season:\")\n",
    "    for week in range(1,17):\n",
    "        print(\"Week\", week)\n",
    "        players_curr = GetPlayersCurr(curr_year, week, season)\n",
    "        players = pd.concat([players,players_curr])\n",
    "        print(\"New size:\", len(players))\n",
    "    if curr_year != 2022:\n",
    "        season = \"POST/\"\n",
    "        print(curr_year, \"PostSeason\")\n",
    "        for week in range(1,5):\n",
    "            print(\"Week\", week)\n",
    "            players_curr = GetPlayersCurr(curr_year, week, season)\n",
    "            players = pd.concat([players,players_curr])\n",
    "            print(\"New size:\", len(players))\n",
    "    return players\n",
    "    \n",
    "\n",
    "def GetTrainData(start_year=2021):\n",
    "    print(\"Getting Training Data...\")\n",
    "    players=None\n",
    "    for year in range(start_year,2023):\n",
    "        players = GetFullSeason(start_year,year,players)\n",
    "    print(\"Done\")\n",
    "    return(players)\n",
    "\n",
    "\n",
    "def GetTestData():\n",
    "    print(\"Getting Testing Data...\")\n",
    "    curr_year = 2022\n",
    "    end = 4\n",
    "    season = \"POST/\"\n",
    "    print(\"2022 PostSeason:\")\n",
    "    for week in range(1,end+1):\n",
    "        if week == 1:\n",
    "            players = None\n",
    "        print(\"Week\", week)\n",
    "        players_curr = GetPlayersCurr(curr_year, week, season)\n",
    "        players = pd.concat([players,players_curr])\n",
    "\n",
    "        print(\"New size:\", len(players))\n",
    "        if week==4:\n",
    "            print(\"Done\")\n",
    "\n",
    "    return(players)\n",
    "\n",
    "def FormatData(data):\n",
    "    X = data.drop([\"Played\",\"Win\",\"RushingTouchdowns\",\"ExtraPointsMade\",\"OffensiveTouchdowns\",\"Touchdowns\",\"FumbleReturnTouchdowns\",\"PassingTouchdowns\",\"ReceivingTouchdowns\",\"FieldGoalsMade30to39\",\"FieldGoalsMade50Plus\",\"ExtraPointsAttempted\"],axis=1)\n",
    "    y = data[\"Win\"]\n",
    "    X.dropna(axis=1,inplace=True)\n",
    "    X = X.loc[:,X.apply(pd.Series.nunique) != 1]\n",
    "    return X,y\n",
    "\n",
    "def GetFeatures(X_train, y_train):\n",
    "    kbest = SelectKBest(k=10)\n",
    "    kbest.fit_transform(X_train, y_train)\n",
    "    features = kbest.get_feature_names_out()\n",
    "    return features"
   ]
  },
  {
   "cell_type": "code",
   "execution_count": 3,
   "id": "7bdf028b",
   "metadata": {},
   "outputs": [
    {
     "name": "stdout",
     "output_type": "stream",
     "text": [
      "Getting Training Data...\n",
      "2021 Regular Season:\n",
      "Week 1\n",
      "New size: 32\n",
      "Week 2\n",
      "New size: 64\n",
      "Week 3\n",
      "New size: 96\n",
      "Week 4\n",
      "New size: 128\n",
      "Week 5\n",
      "New size: 160\n",
      "Week 6\n",
      "New size: 188\n",
      "Week 7\n",
      "New size: 214\n",
      "Week 8\n",
      "New size: 244\n",
      "Week 9\n",
      "New size: 272\n",
      "Week 10\n",
      "New size: 300\n",
      "Week 11\n",
      "New size: 330\n",
      "Week 12\n",
      "New size: 360\n",
      "Week 13\n",
      "New size: 388\n",
      "Week 14\n",
      "New size: 416\n",
      "Week 15\n",
      "New size: 448\n",
      "Week 16\n",
      "New size: 480\n",
      "2021 PostSeason\n",
      "Week 1\n",
      "New size: 492\n",
      "Week 2\n",
      "New size: 500\n",
      "Week 3\n",
      "New size: 504\n",
      "Week 4\n",
      "New size: 506\n",
      "2022 Regular Season:\n",
      "Week 1\n",
      "New size: 538\n",
      "Week 2\n",
      "New size: 570\n",
      "Week 3\n",
      "New size: 602\n",
      "Week 4\n",
      "New size: 634\n",
      "Week 5\n",
      "New size: 666\n",
      "Week 6\n",
      "New size: 694\n",
      "Week 7\n",
      "New size: 722\n",
      "Week 8\n",
      "New size: 752\n",
      "Week 9\n",
      "New size: 778\n",
      "Week 10\n",
      "New size: 806\n",
      "Week 11\n",
      "New size: 834\n",
      "Week 12\n",
      "New size: 866\n",
      "Week 13\n",
      "New size: 896\n",
      "Week 14\n",
      "New size: 922\n",
      "Week 15\n",
      "New size: 954\n",
      "Week 16\n",
      "New size: 986\n",
      "Done\n"
     ]
    }
   ],
   "source": [
    "train = GetTrainData(2021)"
   ]
  },
  {
   "cell_type": "code",
   "execution_count": 4,
   "id": "574023cf",
   "metadata": {},
   "outputs": [
    {
     "name": "stdout",
     "output_type": "stream",
     "text": [
      "['PassingInterceptions' 'PassingSacks' 'PassingSackYards'\n",
      " 'RushingAttempts' 'RushingYards' 'Sacks' 'SackYards' 'PassesDefended'\n",
      " 'Interceptions' 'InterceptionReturnYards']\n"
     ]
    }
   ],
   "source": [
    "X_train, y_train = FormatData(train)\n",
    "features = GetFeatures(X_train, y_train)\n",
    "print(features)\n",
    "X_train = X_train[features]"
   ]
  },
  {
   "cell_type": "code",
   "execution_count": 5,
   "id": "f7f0d250",
   "metadata": {
    "scrolled": false
   },
   "outputs": [
    {
     "name": "stdout",
     "output_type": "stream",
     "text": [
      "Getting Testing Data...\n",
      "2022 PostSeason:\n",
      "Week 1\n",
      "New size: 12\n",
      "Week 2\n",
      "New size: 20\n",
      "Week 3\n",
      "New size: 24\n",
      "Week 4\n",
      "New size: 26\n",
      "Done\n"
     ]
    }
   ],
   "source": [
    "test = GetTestData()\n",
    "X_test, y_test = FormatData(test)\n",
    "X_test = X_test[features]"
   ]
  },
  {
   "cell_type": "code",
   "execution_count": 6,
   "id": "95781f24",
   "metadata": {},
   "outputs": [
    {
     "data": {
      "text/plain": [
       "Index(['PassingInterceptions', 'PassingSacks', 'PassingSackYards',\n",
       "       'RushingAttempts', 'RushingYards', 'Sacks', 'SackYards',\n",
       "       'PassesDefended', 'Interceptions', 'InterceptionReturnYards'],\n",
       "      dtype='object')"
      ]
     },
     "execution_count": 6,
     "metadata": {},
     "output_type": "execute_result"
    }
   ],
   "source": [
    "X_test.columns"
   ]
  },
  {
   "cell_type": "code",
   "execution_count": 7,
   "id": "11305b1f",
   "metadata": {},
   "outputs": [
    {
     "name": "stdout",
     "output_type": "stream",
     "text": [
      "Baseline: 0.6923076923076923\n"
     ]
    },
    {
     "name": "stderr",
     "output_type": "stream",
     "text": [
      "C:\\Users\\owner\\anaconda3\\lib\\site-packages\\sklearn\\metrics\\_scorer.py:794: FutureWarning: sklearn.metrics.SCORERS is deprecated and will be removed in v1.3. Please use sklearn.metrics.get_scorer_names to get a list of available scorers and sklearn.metrics.get_metric to get scorer.\n",
      "  warnings.warn(\n",
      "C:\\Users\\owner\\anaconda3\\lib\\site-packages\\sklearn\\base.py:420: UserWarning: X does not have valid feature names, but SGDClassifier was fitted with feature names\n",
      "  warnings.warn(\n"
     ]
    }
   ],
   "source": [
    "pipeline_optimizer = TPOTClassifier(generations=5)\n",
    "pipeline_optimizer.fit(X_train, y_train)\n",
    "print(\"Baseline:\",pipeline_optimizer.score(X_test, y_test))"
   ]
  },
  {
   "cell_type": "code",
   "execution_count": 8,
   "id": "6639187c",
   "metadata": {},
   "outputs": [
    {
     "data": {
      "text/plain": [
       "Index(['PassingInterceptions', 'PassingSacks', 'PassingSackYards',\n",
       "       'RushingAttempts', 'RushingYards', 'Sacks', 'SackYards',\n",
       "       'PassesDefended', 'Interceptions', 'InterceptionReturnYards'],\n",
       "      dtype='object')"
      ]
     },
     "execution_count": 8,
     "metadata": {},
     "output_type": "execute_result"
    }
   ],
   "source": [
    "X_train.columns"
   ]
  },
  {
   "cell_type": "code",
   "execution_count": 9,
   "id": "598f4b1c",
   "metadata": {},
   "outputs": [
    {
     "data": {
      "text/plain": [
       "0.7210953346855984"
      ]
     },
     "execution_count": 9,
     "metadata": {},
     "output_type": "execute_result"
    }
   ],
   "source": [
    "from sklearn.model_selection import GridSearchCV\n",
    "svc = svm.SVC()\n",
    "params = {\"C\":range(1,10),\n",
    "          \"kernel\":[\"linear\", \"poly\", \"rbf\", \"sigmoid\"],\n",
    "         }\n",
    "clf = GridSearchCV(svc, params)\n",
    "\n",
    "clf.fit(X_train, y_train)\n",
    "clf.best_params_\n",
    "clf.score(X_train, y_train)"
   ]
  },
  {
   "cell_type": "code",
   "execution_count": 10,
   "id": "57df7b07",
   "metadata": {},
   "outputs": [
    {
     "name": "stdout",
     "output_type": "stream",
     "text": [
      "Accuracy: 0.7692307692307693\n"
     ]
    }
   ],
   "source": [
    "y_pred = clf.predict(X_test)\n",
    "print(\"Accuracy:\",accuracy_score(y_pred, y_test))"
   ]
  },
  {
   "cell_type": "code",
   "execution_count": 11,
   "id": "383215e0",
   "metadata": {},
   "outputs": [
    {
     "data": {
      "image/png": "[encoded data removed]",
      "text/plain": [
       "<Figure size 2500x250 with 10 Axes>"
      ]
     },
     "metadata": {},
     "output_type": "display_data"
    }
   ],
   "source": [
    "vis = X_train\n",
    "vis[\"Wins\"] = y_train\n",
    "vis = vis.groupby(\"Team\").sum()\n",
    "g = sns.pairplot(vis,x_vars=features, y_vars=\"Wins\")\n",
    "g.fig.suptitle(\"Features vs Wins\", y=1.1)\n",
    "plt.savefig(\"pairplot.png\")\n",
    "#fig.title(\"Features vs Wins\")"
   ]
  }
 ],
 "metadata": {
  "kernelspec": {
   "display_name": "Python 3 (ipykernel)",
   "language": "python",
   "name": "python3"
  },
  "language_info": {
   "codemirror_mode": {
    "name": "ipython",
    "version": 3
   },
   "file_extension": ".py",
   "mimetype": "text/x-python",
   "name": "python",
   "nbconvert_exporter": "python",
   "pygments_lexer": "ipython3",
   "version": "3.9.16"
  }
 },
 "nbformat": 4,
 "nbformat_minor": 5
}
